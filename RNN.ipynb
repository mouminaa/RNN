{
 "cells": [
  {
   "cell_type": "code",
   "execution_count": 1,
   "metadata": {},
   "outputs": [],
   "source": [
    "import pandas as pd\n",
    "import numpy as np\n",
    "import matplotlib.pyplot as plt"
   ]
  },
  {
   "cell_type": "code",
   "execution_count": 2,
   "metadata": {},
   "outputs": [],
   "source": [
    "x = np.linspace(0,50,501)\n",
    "y = np.sin(x)"
   ]
  },
  {
   "cell_type": "code",
   "execution_count": 3,
   "metadata": {},
   "outputs": [
    {
     "data": {
      "text/html": [
       "<div>\n",
       "<style scoped>\n",
       "    .dataframe tbody tr th:only-of-type {\n",
       "        vertical-align: middle;\n",
       "    }\n",
       "\n",
       "    .dataframe tbody tr th {\n",
       "        vertical-align: top;\n",
       "    }\n",
       "\n",
       "    .dataframe thead th {\n",
       "        text-align: right;\n",
       "    }\n",
       "</style>\n",
       "<table border=\"1\" class=\"dataframe\">\n",
       "  <thead>\n",
       "    <tr style=\"text-align: right;\">\n",
       "      <th></th>\n",
       "      <th>Sinus</th>\n",
       "    </tr>\n",
       "  </thead>\n",
       "  <tbody>\n",
       "    <tr>\n",
       "      <th>0.0</th>\n",
       "      <td>0.000000</td>\n",
       "    </tr>\n",
       "    <tr>\n",
       "      <th>0.1</th>\n",
       "      <td>0.099833</td>\n",
       "    </tr>\n",
       "    <tr>\n",
       "      <th>0.2</th>\n",
       "      <td>0.198669</td>\n",
       "    </tr>\n",
       "    <tr>\n",
       "      <th>0.3</th>\n",
       "      <td>0.295520</td>\n",
       "    </tr>\n",
       "    <tr>\n",
       "      <th>0.4</th>\n",
       "      <td>0.389418</td>\n",
       "    </tr>\n",
       "    <tr>\n",
       "      <th>...</th>\n",
       "      <td>...</td>\n",
       "    </tr>\n",
       "    <tr>\n",
       "      <th>49.6</th>\n",
       "      <td>-0.617439</td>\n",
       "    </tr>\n",
       "    <tr>\n",
       "      <th>49.7</th>\n",
       "      <td>-0.535823</td>\n",
       "    </tr>\n",
       "    <tr>\n",
       "      <th>49.8</th>\n",
       "      <td>-0.448854</td>\n",
       "    </tr>\n",
       "    <tr>\n",
       "      <th>49.9</th>\n",
       "      <td>-0.357400</td>\n",
       "    </tr>\n",
       "    <tr>\n",
       "      <th>50.0</th>\n",
       "      <td>-0.262375</td>\n",
       "    </tr>\n",
       "  </tbody>\n",
       "</table>\n",
       "<p>501 rows × 1 columns</p>\n",
       "</div>"
      ],
      "text/plain": [
       "         Sinus\n",
       "0.0   0.000000\n",
       "0.1   0.099833\n",
       "0.2   0.198669\n",
       "0.3   0.295520\n",
       "0.4   0.389418\n",
       "...        ...\n",
       "49.6 -0.617439\n",
       "49.7 -0.535823\n",
       "49.8 -0.448854\n",
       "49.9 -0.357400\n",
       "50.0 -0.262375\n",
       "\n",
       "[501 rows x 1 columns]"
      ]
     },
     "execution_count": 3,
     "metadata": {},
     "output_type": "execute_result"
    }
   ],
   "source": [
    "df = pd.DataFrame(data=y,index=x,columns=['Sinus'])\n",
    "df"
   ]
  },
  {
   "attachments": {},
   "cell_type": "markdown",
   "metadata": {},
   "source": [
    "## Répartition Train / Test\n",
    "\n",
    "\n",
    "Note ! C'est très différent de notre méthodologie habituelle de répartition Entraînement / Test !"
   ]
  },
  {
   "cell_type": "code",
   "execution_count": 4,
   "metadata": {},
   "outputs": [
    {
     "data": {
      "text/plain": [
       "501"
      ]
     },
     "execution_count": 4,
     "metadata": {},
     "output_type": "execute_result"
    }
   ],
   "source": [
    "len(df)"
   ]
  },
  {
   "cell_type": "code",
   "execution_count": 5,
   "metadata": {},
   "outputs": [],
   "source": [
    "test_percent = 0.1"
   ]
  },
  {
   "cell_type": "code",
   "execution_count": 6,
   "metadata": {},
   "outputs": [
    {
     "data": {
      "text/plain": [
       "50.1"
      ]
     },
     "execution_count": 6,
     "metadata": {},
     "output_type": "execute_result"
    }
   ],
   "source": [
    "len(df)*test_percent"
   ]
  },
  {
   "cell_type": "code",
   "execution_count": 7,
   "metadata": {},
   "outputs": [],
   "source": [
    "test_point = np.round(len(df)*test_percent) #point coupure"
   ]
  },
  {
   "cell_type": "code",
   "execution_count": 90,
   "metadata": {},
   "outputs": [
    {
     "data": {
      "text/plain": [
       "50.0"
      ]
     },
     "execution_count": 90,
     "metadata": {},
     "output_type": "execute_result"
    }
   ],
   "source": [
    "test_point"
   ]
  },
  {
   "cell_type": "code",
   "execution_count": 8,
   "metadata": {},
   "outputs": [],
   "source": [
    "test_ind = int(len(df) - test_point)"
   ]
  },
  {
   "cell_type": "code",
   "execution_count": 92,
   "metadata": {},
   "outputs": [
    {
     "data": {
      "text/plain": [
       "451"
      ]
     },
     "execution_count": 92,
     "metadata": {},
     "output_type": "execute_result"
    }
   ],
   "source": [
    "test_ind"
   ]
  },
  {
   "cell_type": "code",
   "execution_count": 9,
   "metadata": {},
   "outputs": [],
   "source": [
    "train = df.iloc[:test_ind]\n",
    "test = df.iloc[test_ind:]"
   ]
  },
  {
   "attachments": {},
   "cell_type": "markdown",
   "metadata": {},
   "source": [
    "## Mise à l'échelle des données\n",
    "\n",
    "> Bloc en retrait"
   ]
  },
  {
   "cell_type": "code",
   "execution_count": 10,
   "metadata": {},
   "outputs": [],
   "source": [
    "from sklearn.preprocessing import MinMaxScaler"
   ]
  },
  {
   "cell_type": "code",
   "execution_count": 11,
   "metadata": {},
   "outputs": [],
   "source": [
    "scaler = MinMaxScaler()"
   ]
  },
  {
   "cell_type": "code",
   "execution_count": 12,
   "metadata": {},
   "outputs": [
    {
     "data": {
      "text/html": [
       "<style>#sk-container-id-1 {color: black;background-color: white;}#sk-container-id-1 pre{padding: 0;}#sk-container-id-1 div.sk-toggleable {background-color: white;}#sk-container-id-1 label.sk-toggleable__label {cursor: pointer;display: block;width: 100%;margin-bottom: 0;padding: 0.3em;box-sizing: border-box;text-align: center;}#sk-container-id-1 label.sk-toggleable__label-arrow:before {content: \"▸\";float: left;margin-right: 0.25em;color: #696969;}#sk-container-id-1 label.sk-toggleable__label-arrow:hover:before {color: black;}#sk-container-id-1 div.sk-estimator:hover label.sk-toggleable__label-arrow:before {color: black;}#sk-container-id-1 div.sk-toggleable__content {max-height: 0;max-width: 0;overflow: hidden;text-align: left;background-color: #f0f8ff;}#sk-container-id-1 div.sk-toggleable__content pre {margin: 0.2em;color: black;border-radius: 0.25em;background-color: #f0f8ff;}#sk-container-id-1 input.sk-toggleable__control:checked~div.sk-toggleable__content {max-height: 200px;max-width: 100%;overflow: auto;}#sk-container-id-1 input.sk-toggleable__control:checked~label.sk-toggleable__label-arrow:before {content: \"▾\";}#sk-container-id-1 div.sk-estimator input.sk-toggleable__control:checked~label.sk-toggleable__label {background-color: #d4ebff;}#sk-container-id-1 div.sk-label input.sk-toggleable__control:checked~label.sk-toggleable__label {background-color: #d4ebff;}#sk-container-id-1 input.sk-hidden--visually {border: 0;clip: rect(1px 1px 1px 1px);clip: rect(1px, 1px, 1px, 1px);height: 1px;margin: -1px;overflow: hidden;padding: 0;position: absolute;width: 1px;}#sk-container-id-1 div.sk-estimator {font-family: monospace;background-color: #f0f8ff;border: 1px dotted black;border-radius: 0.25em;box-sizing: border-box;margin-bottom: 0.5em;}#sk-container-id-1 div.sk-estimator:hover {background-color: #d4ebff;}#sk-container-id-1 div.sk-parallel-item::after {content: \"\";width: 100%;border-bottom: 1px solid gray;flex-grow: 1;}#sk-container-id-1 div.sk-label:hover label.sk-toggleable__label {background-color: #d4ebff;}#sk-container-id-1 div.sk-serial::before {content: \"\";position: absolute;border-left: 1px solid gray;box-sizing: border-box;top: 0;bottom: 0;left: 50%;z-index: 0;}#sk-container-id-1 div.sk-serial {display: flex;flex-direction: column;align-items: center;background-color: white;padding-right: 0.2em;padding-left: 0.2em;position: relative;}#sk-container-id-1 div.sk-item {position: relative;z-index: 1;}#sk-container-id-1 div.sk-parallel {display: flex;align-items: stretch;justify-content: center;background-color: white;position: relative;}#sk-container-id-1 div.sk-item::before, #sk-container-id-1 div.sk-parallel-item::before {content: \"\";position: absolute;border-left: 1px solid gray;box-sizing: border-box;top: 0;bottom: 0;left: 50%;z-index: -1;}#sk-container-id-1 div.sk-parallel-item {display: flex;flex-direction: column;z-index: 1;position: relative;background-color: white;}#sk-container-id-1 div.sk-parallel-item:first-child::after {align-self: flex-end;width: 50%;}#sk-container-id-1 div.sk-parallel-item:last-child::after {align-self: flex-start;width: 50%;}#sk-container-id-1 div.sk-parallel-item:only-child::after {width: 0;}#sk-container-id-1 div.sk-dashed-wrapped {border: 1px dashed gray;margin: 0 0.4em 0.5em 0.4em;box-sizing: border-box;padding-bottom: 0.4em;background-color: white;}#sk-container-id-1 div.sk-label label {font-family: monospace;font-weight: bold;display: inline-block;line-height: 1.2em;}#sk-container-id-1 div.sk-label-container {text-align: center;}#sk-container-id-1 div.sk-container {/* jupyter's `normalize.less` sets `[hidden] { display: none; }` but bootstrap.min.css set `[hidden] { display: none !important; }` so we also need the `!important` here to be able to override the default hidden behavior on the sphinx rendered scikit-learn.org. See: https://github.com/scikit-learn/scikit-learn/issues/21755 */display: inline-block !important;position: relative;}#sk-container-id-1 div.sk-text-repr-fallback {display: none;}</style><div id=\"sk-container-id-1\" class=\"sk-top-container\"><div class=\"sk-text-repr-fallback\"><pre>MinMaxScaler()</pre><b>In a Jupyter environment, please rerun this cell to show the HTML representation or trust the notebook. <br />On GitHub, the HTML representation is unable to render, please try loading this page with nbviewer.org.</b></div><div class=\"sk-container\" hidden><div class=\"sk-item\"><div class=\"sk-estimator sk-toggleable\"><input class=\"sk-toggleable__control sk-hidden--visually\" id=\"sk-estimator-id-1\" type=\"checkbox\" checked><label for=\"sk-estimator-id-1\" class=\"sk-toggleable__label sk-toggleable__label-arrow\">MinMaxScaler</label><div class=\"sk-toggleable__content\"><pre>MinMaxScaler()</pre></div></div></div></div></div>"
      ],
      "text/plain": [
       "MinMaxScaler()"
      ]
     },
     "execution_count": 12,
     "metadata": {},
     "output_type": "execute_result"
    }
   ],
   "source": [
    "# Si warning, ignorez le, cest juste une conversion en float\n",
    "# Adapter uniquement aux données d'entraînement, sinon nous trichons en supposant des informations sur les données test\n",
    "scaler.fit(train)"
   ]
  },
  {
   "cell_type": "code",
   "execution_count": 13,
   "metadata": {},
   "outputs": [],
   "source": [
    "scaled_train = scaler.transform(train)\n",
    "scaled_test = scaler.transform(test)"
   ]
  },
  {
   "attachments": {},
   "cell_type": "markdown",
   "metadata": {},
   "source": [
    "# Phase entrainement"
   ]
  },
  {
   "cell_type": "code",
   "execution_count": 14,
   "metadata": {},
   "outputs": [],
   "source": [
    "from tensorflow.keras.preprocessing.sequence import TimeseriesGenerator"
   ]
  },
  {
   "cell_type": "code",
   "execution_count": 15,
   "metadata": {},
   "outputs": [],
   "source": [
    "# définir un générateur\n",
    "length = 25 # Longueur des séquences de sortie (en nombre de pas temporel)\n",
    "batch_size = 1 # Nombre d'échantillons de séries temporelles dans chaque batch (lot)\n",
    "generator = TimeseriesGenerator(scaled_train, scaled_train, length=length, batch_size=batch_size)#scaled_train contient les données x et y"
   ]
  },
  {
   "cell_type": "code",
   "execution_count": 16,
   "metadata": {},
   "outputs": [
    {
     "data": {
      "text/plain": [
       "451"
      ]
     },
     "execution_count": 16,
     "metadata": {},
     "output_type": "execute_result"
    }
   ],
   "source": [
    "len(scaled_train)"
   ]
  },
  {
   "cell_type": "code",
   "execution_count": 17,
   "metadata": {},
   "outputs": [
    {
     "data": {
      "text/plain": [
       "426"
      ]
     },
     "execution_count": 17,
     "metadata": {},
     "output_type": "execute_result"
    }
   ],
   "source": [
    "len(generator) #cet objet generator va generer des batchs de données pour nous\n",
    "# est scalé train soustrait de la longueur de la séquence"
   ]
  },
  {
   "cell_type": "code",
   "execution_count": 18,
   "metadata": {},
   "outputs": [],
   "source": [
    "# À quoi ressemble le premier batch ?\n",
    "X,y = generator[0] #premier batch de données"
   ]
  },
  {
   "cell_type": "code",
   "execution_count": 19,
   "metadata": {},
   "outputs": [
    {
     "data": {
      "text/plain": [
       "array([[[0.49999912],\n",
       "        [0.54991622],\n",
       "        [0.59933458],\n",
       "        [0.64776041],\n",
       "        [0.69470985],\n",
       "        [0.73971381],\n",
       "        [0.78232262],\n",
       "        [0.82211054],\n",
       "        [0.85868004],\n",
       "        [0.89166571],\n",
       "        [0.92073798],\n",
       "        [0.94560637],\n",
       "        [0.9660224 ],\n",
       "        [0.98178208],\n",
       "        [0.99272794],\n",
       "        [0.99875061],\n",
       "        [0.99978993],\n",
       "        [0.9958355 ],\n",
       "        [0.98692684],\n",
       "        [0.97315296],\n",
       "        [0.95465148],\n",
       "        [0.93160726],\n",
       "        [0.90425056],\n",
       "        [0.87285471],\n",
       "        [0.83773342]]])"
      ]
     },
     "execution_count": 19,
     "metadata": {},
     "output_type": "execute_result"
    }
   ],
   "source": [
    "X"
   ]
  },
  {
   "cell_type": "code",
   "execution_count": 20,
   "metadata": {},
   "outputs": [
    {
     "data": {
      "text/plain": [
       "array([[0.79923759]])"
      ]
     },
     "execution_count": 20,
     "metadata": {},
     "output_type": "execute_result"
    }
   ],
   "source": [
    "y"
   ]
  },
  {
   "cell_type": "code",
   "execution_count": 21,
   "metadata": {},
   "outputs": [
    {
     "name": "stdout",
     "output_type": "stream",
     "text": [
      "Compte tenu du tableau suivant : \n",
      "[0.49999912 0.54991622 0.59933458 0.64776041 0.69470985 0.73971381\n",
      " 0.78232262 0.82211054 0.85868004 0.89166571 0.92073798 0.94560637\n",
      " 0.9660224  0.98178208 0.99272794 0.99875061 0.99978993 0.9958355\n",
      " 0.98692684 0.97315296 0.95465148 0.93160726 0.90425056 0.87285471\n",
      " 0.83773342]\n",
      "Cela prédit ce y : \n",
      " [[0.79923759]]\n"
     ]
    }
   ],
   "source": [
    "print(f\"Compte tenu du tableau suivant : \\n{X.flatten()}\")\n",
    "print(f'Cela prédit ce y : \\n {y}')"
   ]
  },
  {
   "cell_type": "code",
   "execution_count": 22,
   "metadata": {},
   "outputs": [
    {
     "data": {
      "text/plain": [
       "<Axes: >"
      ]
     },
     "execution_count": 22,
     "metadata": {},
     "output_type": "execute_result"
    },
    {
     "data": {
      "image/png": "[encoded data removed]",
      "text/plain": [
       "<Figure size 640x480 with 1 Axes>"
      ]
     },
     "metadata": {},
     "output_type": "display_data"
    }
   ],
   "source": [
    "df.plot()"
   ]
  },
  {
   "cell_type": "code",
   "execution_count": 23,
   "metadata": {},
   "outputs": [],
   "source": [
    "# Redéfinissons pour obtenir 10 pas en arrière et prédisons ensuite le prochain pas en avant\n",
    "length = 50 # Longueur des séquences de sortie (en nombre de pas temporel)\n",
    "batch_size = 1 # Le batch_size fait référence au nombre d'exemples de données inclus dans chaque lot d'entraînement.\n",
    "generator = TimeseriesGenerator(scaled_train, scaled_train, length=length, batch_size=batch_size)#scaled_train contient les données x et y"
   ]
  },
  {
   "attachments": {},
   "cell_type": "markdown",
   "metadata": {},
   "source": [
    "Vous allez maintenant pouvoir modifier la longueur de manière à ce qu'elle ait un sens pour votre série temporelle !"
   ]
  },
  {
   "attachments": {},
   "cell_type": "markdown",
   "metadata": {},
   "source": [
    "```\n",
    "# This is formatted as code\n",
    "```\n",
    "\n",
    "## Créer le modèle"
   ]
  },
  {
   "cell_type": "code",
   "execution_count": 24,
   "metadata": {},
   "outputs": [],
   "source": [
    "from tensorflow.keras.models import Sequential\n",
    "from tensorflow.keras.layers import Dense,SimpleRNN,LSTM"
   ]
  },
  {
   "cell_type": "code",
   "execution_count": 25,
   "metadata": {},
   "outputs": [],
   "source": [
    "n_features = 1"
   ]
  },
  {
   "cell_type": "code",
   "execution_count": 26,
   "metadata": {},
   "outputs": [],
   "source": [
    "# définir le modèle\n",
    "model = Sequential()\n",
    "\n",
    "# Couche simple RNN\n",
    "model.add(SimpleRNN(50,input_shape=(length,n_features))) #50 neurones\n",
    "\n",
    "# Prédiction finale\n",
    "model.add(Dense(1))\n",
    "\n",
    "model.compile(optimizer='adam',loss='mse')"
   ]
  },
  {
   "cell_type": "code",
   "execution_count": 27,
   "metadata": {},
   "outputs": [
    {
     "name": "stdout",
     "output_type": "stream",
     "text": [
      "Model: \"sequential\"\n",
      "_________________________________________________________________\n",
      " Layer (type)                Output Shape              Param #   \n",
      "=================================================================\n",
      " simple_rnn (SimpleRNN)      (None, 50)                2600      \n",
      "                                                                 \n",
      " dense (Dense)               (None, 1)                 51        \n",
      "                                                                 \n",
      "=================================================================\n",
      "Total params: 2,651\n",
      "Trainable params: 2,651\n",
      "Non-trainable params: 0\n",
      "_________________________________________________________________\n"
     ]
    }
   ],
   "source": [
    "model.summary()"
   ]
  },
  {
   "cell_type": "code",
   "execution_count": 28,
   "metadata": {},
   "outputs": [
    {
     "name": "stdout",
     "output_type": "stream",
     "text": [
      "Epoch 1/5\n",
      "401/401 [==============================] - 2s 4ms/step - loss: 0.0110\n",
      "Epoch 2/5\n",
      "401/401 [==============================] - 2s 4ms/step - loss: 5.8108e-05\n",
      "Epoch 3/5\n",
      "401/401 [==============================] - 2s 4ms/step - loss: 3.6696e-05\n",
      "Epoch 4/5\n",
      "401/401 [==============================] - 1s 4ms/step - loss: 2.3217e-04\n",
      "Epoch 5/5\n",
      "401/401 [==============================] - 1s 3ms/step - loss: 2.9953e-04\n"
     ]
    },
    {
     "data": {
      "text/plain": [
       "<keras.callbacks.History at 0x1af9ad98550>"
      ]
     },
     "execution_count": 28,
     "metadata": {},
     "output_type": "execute_result"
    }
   ],
   "source": [
    "# ajustement du modèle\n",
    "model.fit(generator,epochs=5)"
   ]
  },
  {
   "cell_type": "code",
   "execution_count": 29,
   "metadata": {},
   "outputs": [],
   "source": [
    "losses = pd.DataFrame(model.history.history) \n",
    "#on peut voir que l'erreur diminue au fur et à mesure des epochs"
   ]
  },
  {
   "cell_type": "code",
   "execution_count": 30,
   "metadata": {},
   "outputs": [
    {
     "data": {
      "text/html": [
       "<div>\n",
       "<style scoped>\n",
       "    .dataframe tbody tr th:only-of-type {\n",
       "        vertical-align: middle;\n",
       "    }\n",
       "\n",
       "    .dataframe tbody tr th {\n",
       "        vertical-align: top;\n",
       "    }\n",
       "\n",
       "    .dataframe thead th {\n",
       "        text-align: right;\n",
       "    }\n",
       "</style>\n",
       "<table border=\"1\" class=\"dataframe\">\n",
       "  <thead>\n",
       "    <tr style=\"text-align: right;\">\n",
       "      <th></th>\n",
       "      <th>loss</th>\n",
       "    </tr>\n",
       "  </thead>\n",
       "  <tbody>\n",
       "    <tr>\n",
       "      <th>0</th>\n",
       "      <td>0.010996</td>\n",
       "    </tr>\n",
       "    <tr>\n",
       "      <th>1</th>\n",
       "      <td>0.000058</td>\n",
       "    </tr>\n",
       "    <tr>\n",
       "      <th>2</th>\n",
       "      <td>0.000037</td>\n",
       "    </tr>\n",
       "    <tr>\n",
       "      <th>3</th>\n",
       "      <td>0.000232</td>\n",
       "    </tr>\n",
       "    <tr>\n",
       "      <th>4</th>\n",
       "      <td>0.000300</td>\n",
       "    </tr>\n",
       "  </tbody>\n",
       "</table>\n",
       "</div>"
      ],
      "text/plain": [
       "       loss\n",
       "0  0.010996\n",
       "1  0.000058\n",
       "2  0.000037\n",
       "3  0.000232\n",
       "4  0.000300"
      ]
     },
     "execution_count": 30,
     "metadata": {},
     "output_type": "execute_result"
    }
   ],
   "source": [
    "losses"
   ]
  },
  {
   "cell_type": "code",
   "execution_count": 31,
   "metadata": {},
   "outputs": [
    {
     "data": {
      "text/plain": [
       "<Axes: >"
      ]
     },
     "execution_count": 31,
     "metadata": {},
     "output_type": "execute_result"
    },
    {
     "data": {
      "image/png": "[encoded data removed]",
      "text/plain": [
       "<Figure size 640x480 with 1 Axes>"
      ]
     },
     "metadata": {},
     "output_type": "display_data"
    }
   ],
   "source": [
    "losses.plot() #nous evaluons nos pertes"
   ]
  },
  {
   "attachments": {},
   "cell_type": "markdown",
   "metadata": {},
   "source": [
    "## Évaluer sur les données de test\n",
    "\n",
    "> Indented block"
   ]
  },
  {
   "cell_type": "code",
   "execution_count": 32,
   "metadata": {},
   "outputs": [],
   "source": [
    "# Pensons au premier point batch que je devrai passer dans mon modèle pour prédire quelque chose sur le set de test\n",
    "\n",
    "first_eval_batch = scaled_train[-length:] #on prend les 50 derniers points de train pour predire le premier point de test"
   ]
  },
  {
   "cell_type": "code",
   "execution_count": 33,
   "metadata": {},
   "outputs": [],
   "source": [
    "first_eval_batch = first_eval_batch.reshape((1, length, n_features)) #on reshape pour que le modèle puisse le lire"
   ]
  },
  {
   "cell_type": "code",
   "execution_count": 34,
   "metadata": {},
   "outputs": [
    {
     "name": "stdout",
     "output_type": "stream",
     "text": [
      "1/1 [==============================] - 0s 104ms/step\n"
     ]
    },
    {
     "data": {
      "text/plain": [
       "array([[0.9485281]], dtype=float32)"
      ]
     },
     "execution_count": 34,
     "metadata": {},
     "output_type": "execute_result"
    }
   ],
   "source": [
    "model.predict(first_eval_batch) #on predit le premier point de test"
   ]
  },
  {
   "cell_type": "code",
   "execution_count": 35,
   "metadata": {},
   "outputs": [
    {
     "data": {
      "text/plain": [
       "array([0.94955134])"
      ]
     },
     "execution_count": 35,
     "metadata": {},
     "output_type": "execute_result"
    }
   ],
   "source": [
    "scaled_test[0] #on compare avec le premier point de test"
   ]
  },
  {
   "attachments": {},
   "cell_type": "markdown",
   "metadata": {},
   "source": [
    "Mettons maintenant cette logique dans une boucle for pour prédire l'avenir pour toute la gamme de test."
   ]
  },
  {
   "cell_type": "code",
   "execution_count": 36,
   "metadata": {},
   "outputs": [],
   "source": [
    "#boucle pour predire tous les points de test\n",
    "test_predictions = []\n",
    "first_eval_batch = scaled_train[-length:]\n",
    "current_batch = first_eval_batch.reshape((1, length, n_features))\n"
   ]
  },
  {
   "cell_type": "code",
   "execution_count": 37,
   "metadata": {},
   "outputs": [
    {
     "data": {
      "text/plain": [
       "array([[8.37405820e-01],\n",
       "       [7.98881698e-01],\n",
       "       [7.57371240e-01],\n",
       "       [7.13289205e-01],\n",
       "       [6.67076045e-01],\n",
       "       [6.19193508e-01],\n",
       "       [5.70120021e-01],\n",
       "       [5.20345908e-01],\n",
       "       [4.70368497e-01],\n",
       "       [4.20687145e-01],\n",
       "       [3.71798252e-01],\n",
       "       [3.24190300e-01],\n",
       "       [2.78338972e-01],\n",
       "       [2.34702398e-01],\n",
       "       [1.93716581e-01],\n",
       "       [1.55791039e-01],\n",
       "       [1.21304709e-01],\n",
       "       [9.06021693e-02],\n",
       "       [6.39901882e-02],\n",
       "       [4.17346643e-02],\n",
       "       [2.40579672e-02],\n",
       "       [1.11367167e-02],\n",
       "       [3.10001778e-03],\n",
       "       [2.81703720e-05],\n",
       "       [1.95186738e-03],\n",
       "       [8.85188786e-03],\n",
       "       [2.06592891e-02],\n",
       "       [3.72560954e-02],\n",
       "       [5.84764771e-02],\n",
       "       [8.41084070e-02],\n",
       "       [1.13895779e-01],\n",
       "       [1.47540969e-01],\n",
       "       [1.84707803e-01],\n",
       "       [2.25024924e-01],\n",
       "       [2.68089497e-01],\n",
       "       [3.13471233e-01],\n",
       "       [3.60716695e-01],\n",
       "       [4.09353821e-01],\n",
       "       [4.58896644e-01],\n",
       "       [5.08850150e-01],\n",
       "       [5.58715219e-01],\n",
       "       [6.07993616e-01],\n",
       "       [6.56192968e-01],\n",
       "       [7.02831682e-01],\n",
       "       [7.47443761e-01],\n",
       "       [7.89583454e-01],\n",
       "       [8.28829716e-01],\n",
       "       [8.64790412e-01],\n",
       "       [8.97106234e-01],\n",
       "       [9.25454293e-01]])"
      ]
     },
     "execution_count": 37,
     "metadata": {},
     "output_type": "execute_result"
    }
   ],
   "source": [
    "first_eval_batch"
   ]
  },
  {
   "cell_type": "code",
   "execution_count": 38,
   "metadata": {},
   "outputs": [
    {
     "data": {
      "text/plain": [
       "array([[[7.98881698e-01],\n",
       "        [7.57371240e-01],\n",
       "        [7.13289205e-01],\n",
       "        [6.67076045e-01],\n",
       "        [6.19193508e-01],\n",
       "        [5.70120021e-01],\n",
       "        [5.20345908e-01],\n",
       "        [4.70368497e-01],\n",
       "        [4.20687145e-01],\n",
       "        [3.71798252e-01],\n",
       "        [3.24190300e-01],\n",
       "        [2.78338972e-01],\n",
       "        [2.34702398e-01],\n",
       "        [1.93716581e-01],\n",
       "        [1.55791039e-01],\n",
       "        [1.21304709e-01],\n",
       "        [9.06021693e-02],\n",
       "        [6.39901882e-02],\n",
       "        [4.17346643e-02],\n",
       "        [2.40579672e-02],\n",
       "        [1.11367167e-02],\n",
       "        [3.10001778e-03],\n",
       "        [2.81703720e-05],\n",
       "        [1.95186738e-03],\n",
       "        [8.85188786e-03],\n",
       "        [2.06592891e-02],\n",
       "        [3.72560954e-02],\n",
       "        [5.84764771e-02],\n",
       "        [8.41084070e-02],\n",
       "        [1.13895779e-01],\n",
       "        [1.47540969e-01],\n",
       "        [1.84707803e-01],\n",
       "        [2.25024924e-01],\n",
       "        [2.68089497e-01],\n",
       "        [3.13471233e-01],\n",
       "        [3.60716695e-01],\n",
       "        [4.09353821e-01],\n",
       "        [4.58896644e-01],\n",
       "        [5.08850150e-01],\n",
       "        [5.58715219e-01],\n",
       "        [6.07993616e-01],\n",
       "        [6.56192968e-01],\n",
       "        [7.02831682e-01],\n",
       "        [7.47443761e-01],\n",
       "        [7.89583454e-01],\n",
       "        [8.28829716e-01],\n",
       "        [8.64790412e-01],\n",
       "        [8.97106234e-01],\n",
       "        [9.25454293e-01],\n",
       "        [9.90000000e+01]]])"
      ]
     },
     "execution_count": 38,
     "metadata": {},
     "output_type": "execute_result"
    }
   ],
   "source": [
    "predicted_value = [[[99]]] #on initialise predicted_value\n",
    "np.append(current_batch[:,1:,:],[[[99]]],axis=1) #on prend le dernier point de current_batch et on lui ajoute le point suivant de scaled_train"
   ]
  },
  {
   "cell_type": "code",
   "execution_count": 39,
   "metadata": {},
   "outputs": [
    {
     "name": "stdout",
     "output_type": "stream",
     "text": [
      "1/1 [==============================] - 0s 16ms/step\n",
      "1/1 [==============================] - 0s 18ms/step\n",
      "1/1 [==============================] - 0s 18ms/step\n",
      "1/1 [==============================] - 0s 16ms/step\n",
      "1/1 [==============================] - 0s 16ms/step\n",
      "1/1 [==============================] - 0s 16ms/step\n",
      "1/1 [==============================] - 0s 16ms/step\n",
      "1/1 [==============================] - 0s 17ms/step\n",
      "1/1 [==============================] - 0s 15ms/step\n",
      "1/1 [==============================] - 0s 17ms/step\n",
      "1/1 [==============================] - 0s 16ms/step\n",
      "1/1 [==============================] - 0s 16ms/step\n",
      "1/1 [==============================] - 0s 15ms/step\n",
      "1/1 [==============================] - 0s 17ms/step\n",
      "1/1 [==============================] - 0s 17ms/step\n",
      "1/1 [==============================] - 0s 19ms/step\n",
      "1/1 [==============================] - 0s 22ms/step\n",
      "1/1 [==============================] - 0s 20ms/step\n",
      "1/1 [==============================] - 0s 15ms/step\n",
      "1/1 [==============================] - 0s 17ms/step\n",
      "1/1 [==============================] - 0s 19ms/step\n",
      "1/1 [==============================] - 0s 17ms/step\n",
      "1/1 [==============================] - 0s 17ms/step\n",
      "1/1 [==============================] - 0s 17ms/step\n",
      "1/1 [==============================] - 0s 17ms/step\n",
      "1/1 [==============================] - 0s 18ms/step\n",
      "1/1 [==============================] - 0s 14ms/step\n",
      "1/1 [==============================] - 0s 20ms/step\n",
      "1/1 [==============================] - 0s 17ms/step\n",
      "1/1 [==============================] - 0s 18ms/step\n",
      "1/1 [==============================] - 0s 20ms/step\n",
      "1/1 [==============================] - 0s 15ms/step\n",
      "1/1 [==============================] - 0s 18ms/step\n",
      "1/1 [==============================] - 0s 18ms/step\n",
      "1/1 [==============================] - 0s 16ms/step\n",
      "1/1 [==============================] - 0s 18ms/step\n",
      "1/1 [==============================] - 0s 17ms/step\n",
      "1/1 [==============================] - 0s 18ms/step\n",
      "1/1 [==============================] - 0s 16ms/step\n",
      "1/1 [==============================] - 0s 16ms/step\n",
      "1/1 [==============================] - 0s 19ms/step\n",
      "1/1 [==============================] - 0s 19ms/step\n",
      "1/1 [==============================] - 0s 20ms/step\n",
      "1/1 [==============================] - 0s 18ms/step\n",
      "1/1 [==============================] - 0s 18ms/step\n",
      "1/1 [==============================] - 0s 17ms/step\n",
      "1/1 [==============================] - 0s 15ms/step\n",
      "1/1 [==============================] - 0s 21ms/step\n",
      "1/1 [==============================] - 0s 17ms/step\n",
      "1/1 [==============================] - 0s 19ms/step\n"
     ]
    }
   ],
   "source": [
    "test_predictions = []\n",
    "\n",
    "first_eval_batch = scaled_train[-length:]\n",
    "current_batch = first_eval_batch.reshape((1, length, n_features))\n",
    "\n",
    "for i in range(len(test)):\n",
    "    \n",
    "    # obtenir la prédiction avec 1 timestamp d'avance ([0] pour ne saisir que le nombre au lieu de [array])\n",
    "    current_pred = model.predict(current_batch)[0]\n",
    "    \n",
    "    # stocker la prédiction\n",
    "    test_predictions.append(current_pred) \n",
    "    \n",
    "    # mise à jour du batch pour inclure maintenant la prédiction et supprimer la première valeur\n",
    "    current_batch = np.append(current_batch[:,1:,:],[[current_pred]],axis=1)"
   ]
  },
  {
   "cell_type": "code",
   "execution_count": 40,
   "metadata": {},
   "outputs": [
    {
     "data": {
      "text/plain": [
       "[array([0.9485281], dtype=float32),\n",
       " array([0.96684444], dtype=float32),\n",
       " array([0.9803084], dtype=float32),\n",
       " array([0.9890001], dtype=float32),\n",
       " array([0.99269754], dtype=float32),\n",
       " array([0.99158555], dtype=float32),\n",
       " array([0.98580116], dtype=float32),\n",
       " array([0.97544795], dtype=float32),\n",
       " array([0.9606165], dtype=float32),\n",
       " array([0.94131994], dtype=float32),\n",
       " array([0.9176646], dtype=float32),\n",
       " array([0.8898815], dtype=float32),\n",
       " array([0.8579852], dtype=float32),\n",
       " array([0.82224244], dtype=float32),\n",
       " array([0.78298134], dtype=float32),\n",
       " array([0.7405842], dtype=float32),\n",
       " array([0.69545144], dtype=float32),\n",
       " array([0.64793867], dtype=float32),\n",
       " array([0.59844065], dtype=float32),\n",
       " array([0.54733396], dtype=float32),\n",
       " array([0.49512932], dtype=float32),\n",
       " array([0.44237143], dtype=float32),\n",
       " array([0.38964477], dtype=float32),\n",
       " array([0.33755568], dtype=float32),\n",
       " array([0.28671882], dtype=float32),\n",
       " array([0.23784421], dtype=float32),\n",
       " array([0.19153185], dtype=float32),\n",
       " array([0.14830357], dtype=float32),\n",
       " array([0.10867043], dtype=float32),\n",
       " array([0.07306213], dtype=float32),\n",
       " array([0.04189083], dtype=float32),\n",
       " array([0.01532563], dtype=float32),\n",
       " array([-0.00630613], dtype=float32),\n",
       " array([-0.0227758], dtype=float32),\n",
       " array([-0.03380508], dtype=float32),\n",
       " array([-0.03926358], dtype=float32),\n",
       " array([-0.03911725], dtype=float32),\n",
       " array([-0.03320626], dtype=float32),\n",
       " array([-0.02164011], dtype=float32),\n",
       " array([-0.00444193], dtype=float32),\n",
       " array([0.01819209], dtype=float32),\n",
       " array([0.04605877], dtype=float32),\n",
       " array([0.07886112], dtype=float32),\n",
       " array([0.11611938], dtype=float32),\n",
       " array([0.15742455], dtype=float32),\n",
       " array([0.20215002], dtype=float32),\n",
       " array([0.24976026], dtype=float32),\n",
       " array([0.29950535], dtype=float32),\n",
       " array([0.3507029], dtype=float32),\n",
       " array([0.4027062], dtype=float32)]"
      ]
     },
     "execution_count": 40,
     "metadata": {},
     "output_type": "execute_result"
    }
   ],
   "source": [
    "test_predictions"
   ]
  },
  {
   "cell_type": "code",
   "execution_count": 41,
   "metadata": {},
   "outputs": [
    {
     "data": {
      "text/plain": [
       "array([[9.49551344e-01],\n",
       "       [9.69156618e-01],\n",
       "       [9.84074225e-01],\n",
       "       [9.94155114e-01],\n",
       "       [9.99298559e-01],\n",
       "       [9.99453170e-01],\n",
       "       [9.94617400e-01],\n",
       "       [9.84839568e-01],\n",
       "       [9.70217371e-01],\n",
       "       [9.50896908e-01],\n",
       "       [9.27071224e-01],\n",
       "       [8.98978376e-01],\n",
       "       [8.66899060e-01],\n",
       "       [8.31153800e-01],\n",
       "       [7.92099752e-01],\n",
       "       [7.50127132e-01],\n",
       "       [7.05655314e-01],\n",
       "       [6.59128649e-01],\n",
       "       [6.11012013e-01],\n",
       "       [5.61786173e-01],\n",
       "       [5.11942978e-01],\n",
       "       [4.61980443e-01],\n",
       "       [4.12397778e-01],\n",
       "       [3.63690397e-01],\n",
       "       [3.16344967e-01],\n",
       "       [2.70834550e-01],\n",
       "       [2.27613868e-01],\n",
       "       [1.87114770e-01],\n",
       "       [1.49741909e-01],\n",
       "       [1.15868702e-01],\n",
       "       [8.58335998e-02],\n",
       "       [5.99367021e-02],\n",
       "       [3.84367625e-02],\n",
       "       [2.15486014e-02],\n",
       "       [9.44095974e-03],\n",
       "       [2.23481297e-03],\n",
       "       [2.16257798e-06],\n",
       "       [2.76531647e-03],\n",
       "       [1.04966661e-02],\n",
       "       [2.31189624e-02],\n",
       "       [4.05060876e-02],\n",
       "       [6.24843152e-02],\n",
       "       [8.88340461e-02],\n",
       "       [1.19292002e-01],\n",
       "       [1.53553858e-01],\n",
       "       [1.91277281e-01],\n",
       "       [2.32085350e-01],\n",
       "       [2.75570325e-01],\n",
       "       [3.21297718e-01],\n",
       "       [3.68810636e-01]])"
      ]
     },
     "execution_count": 41,
     "metadata": {},
     "output_type": "execute_result"
    }
   ],
   "source": [
    "scaled_test"
   ]
  },
  {
   "attachments": {},
   "cell_type": "markdown",
   "metadata": {},
   "source": [
    "## Transformations inverses et Comparaison"
   ]
  },
  {
   "cell_type": "code",
   "execution_count": 42,
   "metadata": {},
   "outputs": [],
   "source": [
    "true_predictions = scaler.inverse_transform(test_predictions)"
   ]
  },
  {
   "cell_type": "code",
   "execution_count": 43,
   "metadata": {},
   "outputs": [
    {
     "data": {
      "text/plain": [
       "array([[ 0.89705079],\n",
       "       [ 0.93368315],\n",
       "       [ 0.96061089],\n",
       "       [ 0.97799408],\n",
       "       [ 0.98538893],\n",
       "       [ 0.98316498],\n",
       "       [ 0.97159629],\n",
       "       [ 0.95089004],\n",
       "       [ 0.92122743],\n",
       "       [ 0.88263457],\n",
       "       [ 0.83532424],\n",
       "       [ 0.77975849],\n",
       "       [ 0.71596642],\n",
       "       [ 0.64448147],\n",
       "       [ 0.5659599 ],\n",
       "       [ 0.4811663 ],\n",
       "       [ 0.39090151],\n",
       "       [ 0.29587673],\n",
       "       [ 0.19688148],\n",
       "       [ 0.09466892],\n",
       "       [-0.00973952],\n",
       "       [-0.11525445],\n",
       "       [-0.22070692],\n",
       "       [-0.32488427],\n",
       "       [-0.42655718],\n",
       "       [-0.5243056 ],\n",
       "       [-0.61692958],\n",
       "       [-0.70338545],\n",
       "       [-0.78265109],\n",
       "       [-0.85386712],\n",
       "       [-0.91620922],\n",
       "       [-0.96933918],\n",
       "       [-1.01260236],\n",
       "       [-1.04554144],\n",
       "       [-1.06759982],\n",
       "       [-1.07851674],\n",
       "       [-1.07822408],\n",
       "       [-1.0664022 ],\n",
       "       [-1.04327008],\n",
       "       [-1.00887399],\n",
       "       [-0.96360632],\n",
       "       [-0.9078734 ],\n",
       "       [-0.84226922],\n",
       "       [-0.7677533 ],\n",
       "       [-0.68514362],\n",
       "       [-0.59569342],\n",
       "       [-0.5004737 ],\n",
       "       [-0.40098431],\n",
       "       [-0.29859001],\n",
       "       [-0.19458426]])"
      ]
     },
     "execution_count": 43,
     "metadata": {},
     "output_type": "execute_result"
    }
   ],
   "source": [
    "true_predictions"
   ]
  },
  {
   "cell_type": "code",
   "execution_count": 44,
   "metadata": {},
   "outputs": [
    {
     "name": "stderr",
     "output_type": "stream",
     "text": [
      "C:\\Users\\Administrator\\AppData\\Local\\Temp\\ipykernel_13200\\4269337381.py:1: SettingWithCopyWarning: \n",
      "A value is trying to be set on a copy of a slice from a DataFrame.\n",
      "Try using .loc[row_indexer,col_indexer] = value instead\n",
      "\n",
      "See the caveats in the documentation: https://pandas.pydata.org/pandas-docs/stable/user_guide/indexing.html#returning-a-view-versus-a-copy\n",
      "  test['Predictions'] = true_predictions\n"
     ]
    }
   ],
   "source": [
    "test['Predictions'] = true_predictions"
   ]
  },
  {
   "cell_type": "code",
   "execution_count": 45,
   "metadata": {},
   "outputs": [
    {
     "data": {
      "text/html": [
       "<div>\n",
       "<style scoped>\n",
       "    .dataframe tbody tr th:only-of-type {\n",
       "        vertical-align: middle;\n",
       "    }\n",
       "\n",
       "    .dataframe tbody tr th {\n",
       "        vertical-align: top;\n",
       "    }\n",
       "\n",
       "    .dataframe thead th {\n",
       "        text-align: right;\n",
       "    }\n",
       "</style>\n",
       "<table border=\"1\" class=\"dataframe\">\n",
       "  <thead>\n",
       "    <tr style=\"text-align: right;\">\n",
       "      <th></th>\n",
       "      <th>Sinus</th>\n",
       "      <th>Predictions</th>\n",
       "    </tr>\n",
       "  </thead>\n",
       "  <tbody>\n",
       "    <tr>\n",
       "      <th>45.1</th>\n",
       "      <td>0.899097</td>\n",
       "      <td>0.897051</td>\n",
       "    </tr>\n",
       "    <tr>\n",
       "      <th>45.2</th>\n",
       "      <td>0.938307</td>\n",
       "      <td>0.933683</td>\n",
       "    </tr>\n",
       "    <tr>\n",
       "      <th>45.3</th>\n",
       "      <td>0.968142</td>\n",
       "      <td>0.960611</td>\n",
       "    </tr>\n",
       "    <tr>\n",
       "      <th>45.4</th>\n",
       "      <td>0.988304</td>\n",
       "      <td>0.977994</td>\n",
       "    </tr>\n",
       "    <tr>\n",
       "      <th>45.5</th>\n",
       "      <td>0.998591</td>\n",
       "      <td>0.985389</td>\n",
       "    </tr>\n",
       "    <tr>\n",
       "      <th>45.6</th>\n",
       "      <td>0.998900</td>\n",
       "      <td>0.983165</td>\n",
       "    </tr>\n",
       "    <tr>\n",
       "      <th>45.7</th>\n",
       "      <td>0.989229</td>\n",
       "      <td>0.971596</td>\n",
       "    </tr>\n",
       "    <tr>\n",
       "      <th>45.8</th>\n",
       "      <td>0.969673</td>\n",
       "      <td>0.950890</td>\n",
       "    </tr>\n",
       "    <tr>\n",
       "      <th>45.9</th>\n",
       "      <td>0.940429</td>\n",
       "      <td>0.921227</td>\n",
       "    </tr>\n",
       "    <tr>\n",
       "      <th>46.0</th>\n",
       "      <td>0.901788</td>\n",
       "      <td>0.882635</td>\n",
       "    </tr>\n",
       "    <tr>\n",
       "      <th>46.1</th>\n",
       "      <td>0.854137</td>\n",
       "      <td>0.835324</td>\n",
       "    </tr>\n",
       "    <tr>\n",
       "      <th>46.2</th>\n",
       "      <td>0.797952</td>\n",
       "      <td>0.779758</td>\n",
       "    </tr>\n",
       "    <tr>\n",
       "      <th>46.3</th>\n",
       "      <td>0.733794</td>\n",
       "      <td>0.715966</td>\n",
       "    </tr>\n",
       "    <tr>\n",
       "      <th>46.4</th>\n",
       "      <td>0.662304</td>\n",
       "      <td>0.644481</td>\n",
       "    </tr>\n",
       "    <tr>\n",
       "      <th>46.5</th>\n",
       "      <td>0.584197</td>\n",
       "      <td>0.565960</td>\n",
       "    </tr>\n",
       "    <tr>\n",
       "      <th>46.6</th>\n",
       "      <td>0.500252</td>\n",
       "      <td>0.481166</td>\n",
       "    </tr>\n",
       "    <tr>\n",
       "      <th>46.7</th>\n",
       "      <td>0.411309</td>\n",
       "      <td>0.390902</td>\n",
       "    </tr>\n",
       "    <tr>\n",
       "      <th>46.8</th>\n",
       "      <td>0.318257</td>\n",
       "      <td>0.295877</td>\n",
       "    </tr>\n",
       "    <tr>\n",
       "      <th>46.9</th>\n",
       "      <td>0.222024</td>\n",
       "      <td>0.196881</td>\n",
       "    </tr>\n",
       "    <tr>\n",
       "      <th>47.0</th>\n",
       "      <td>0.123573</td>\n",
       "      <td>0.094669</td>\n",
       "    </tr>\n",
       "    <tr>\n",
       "      <th>47.1</th>\n",
       "      <td>0.023888</td>\n",
       "      <td>-0.009740</td>\n",
       "    </tr>\n",
       "    <tr>\n",
       "      <th>47.2</th>\n",
       "      <td>-0.076037</td>\n",
       "      <td>-0.115254</td>\n",
       "    </tr>\n",
       "    <tr>\n",
       "      <th>47.3</th>\n",
       "      <td>-0.175201</td>\n",
       "      <td>-0.220707</td>\n",
       "    </tr>\n",
       "    <tr>\n",
       "      <th>47.4</th>\n",
       "      <td>-0.272615</td>\n",
       "      <td>-0.324884</td>\n",
       "    </tr>\n",
       "    <tr>\n",
       "      <th>47.5</th>\n",
       "      <td>-0.367305</td>\n",
       "      <td>-0.426557</td>\n",
       "    </tr>\n",
       "    <tr>\n",
       "      <th>47.6</th>\n",
       "      <td>-0.458325</td>\n",
       "      <td>-0.524306</td>\n",
       "    </tr>\n",
       "    <tr>\n",
       "      <th>47.7</th>\n",
       "      <td>-0.544766</td>\n",
       "      <td>-0.616930</td>\n",
       "    </tr>\n",
       "    <tr>\n",
       "      <th>47.8</th>\n",
       "      <td>-0.625764</td>\n",
       "      <td>-0.703385</td>\n",
       "    </tr>\n",
       "    <tr>\n",
       "      <th>47.9</th>\n",
       "      <td>-0.700509</td>\n",
       "      <td>-0.782651</td>\n",
       "    </tr>\n",
       "    <tr>\n",
       "      <th>48.0</th>\n",
       "      <td>-0.768255</td>\n",
       "      <td>-0.853867</td>\n",
       "    </tr>\n",
       "    <tr>\n",
       "      <th>48.1</th>\n",
       "      <td>-0.828324</td>\n",
       "      <td>-0.916209</td>\n",
       "    </tr>\n",
       "    <tr>\n",
       "      <th>48.2</th>\n",
       "      <td>-0.880118</td>\n",
       "      <td>-0.969339</td>\n",
       "    </tr>\n",
       "    <tr>\n",
       "      <th>48.3</th>\n",
       "      <td>-0.923117</td>\n",
       "      <td>-1.012602</td>\n",
       "    </tr>\n",
       "    <tr>\n",
       "      <th>48.4</th>\n",
       "      <td>-0.956893</td>\n",
       "      <td>-1.045541</td>\n",
       "    </tr>\n",
       "    <tr>\n",
       "      <th>48.5</th>\n",
       "      <td>-0.981108</td>\n",
       "      <td>-1.067600</td>\n",
       "    </tr>\n",
       "    <tr>\n",
       "      <th>48.6</th>\n",
       "      <td>-0.995521</td>\n",
       "      <td>-1.078517</td>\n",
       "    </tr>\n",
       "    <tr>\n",
       "      <th>48.7</th>\n",
       "      <td>-0.999986</td>\n",
       "      <td>-1.078224</td>\n",
       "    </tr>\n",
       "    <tr>\n",
       "      <th>48.8</th>\n",
       "      <td>-0.994460</td>\n",
       "      <td>-1.066402</td>\n",
       "    </tr>\n",
       "    <tr>\n",
       "      <th>48.9</th>\n",
       "      <td>-0.978997</td>\n",
       "      <td>-1.043270</td>\n",
       "    </tr>\n",
       "    <tr>\n",
       "      <th>49.0</th>\n",
       "      <td>-0.953753</td>\n",
       "      <td>-1.008874</td>\n",
       "    </tr>\n",
       "    <tr>\n",
       "      <th>49.1</th>\n",
       "      <td>-0.918979</td>\n",
       "      <td>-0.963606</td>\n",
       "    </tr>\n",
       "    <tr>\n",
       "      <th>49.2</th>\n",
       "      <td>-0.875023</td>\n",
       "      <td>-0.907873</td>\n",
       "    </tr>\n",
       "    <tr>\n",
       "      <th>49.3</th>\n",
       "      <td>-0.822324</td>\n",
       "      <td>-0.842269</td>\n",
       "    </tr>\n",
       "    <tr>\n",
       "      <th>49.4</th>\n",
       "      <td>-0.761408</td>\n",
       "      <td>-0.767753</td>\n",
       "    </tr>\n",
       "    <tr>\n",
       "      <th>49.5</th>\n",
       "      <td>-0.692885</td>\n",
       "      <td>-0.685144</td>\n",
       "    </tr>\n",
       "    <tr>\n",
       "      <th>49.6</th>\n",
       "      <td>-0.617439</td>\n",
       "      <td>-0.595693</td>\n",
       "    </tr>\n",
       "    <tr>\n",
       "      <th>49.7</th>\n",
       "      <td>-0.535823</td>\n",
       "      <td>-0.500474</td>\n",
       "    </tr>\n",
       "    <tr>\n",
       "      <th>49.8</th>\n",
       "      <td>-0.448854</td>\n",
       "      <td>-0.400984</td>\n",
       "    </tr>\n",
       "    <tr>\n",
       "      <th>49.9</th>\n",
       "      <td>-0.357400</td>\n",
       "      <td>-0.298590</td>\n",
       "    </tr>\n",
       "    <tr>\n",
       "      <th>50.0</th>\n",
       "      <td>-0.262375</td>\n",
       "      <td>-0.194584</td>\n",
       "    </tr>\n",
       "  </tbody>\n",
       "</table>\n",
       "</div>"
      ],
      "text/plain": [
       "         Sinus  Predictions\n",
       "45.1  0.899097     0.897051\n",
       "45.2  0.938307     0.933683\n",
       "45.3  0.968142     0.960611\n",
       "45.4  0.988304     0.977994\n",
       "45.5  0.998591     0.985389\n",
       "45.6  0.998900     0.983165\n",
       "45.7  0.989229     0.971596\n",
       "45.8  0.969673     0.950890\n",
       "45.9  0.940429     0.921227\n",
       "46.0  0.901788     0.882635\n",
       "46.1  0.854137     0.835324\n",
       "46.2  0.797952     0.779758\n",
       "46.3  0.733794     0.715966\n",
       "46.4  0.662304     0.644481\n",
       "46.5  0.584197     0.565960\n",
       "46.6  0.500252     0.481166\n",
       "46.7  0.411309     0.390902\n",
       "46.8  0.318257     0.295877\n",
       "46.9  0.222024     0.196881\n",
       "47.0  0.123573     0.094669\n",
       "47.1  0.023888    -0.009740\n",
       "47.2 -0.076037    -0.115254\n",
       "47.3 -0.175201    -0.220707\n",
       "47.4 -0.272615    -0.324884\n",
       "47.5 -0.367305    -0.426557\n",
       "47.6 -0.458325    -0.524306\n",
       "47.7 -0.544766    -0.616930\n",
       "47.8 -0.625764    -0.703385\n",
       "47.9 -0.700509    -0.782651\n",
       "48.0 -0.768255    -0.853867\n",
       "48.1 -0.828324    -0.916209\n",
       "48.2 -0.880118    -0.969339\n",
       "48.3 -0.923117    -1.012602\n",
       "48.4 -0.956893    -1.045541\n",
       "48.5 -0.981108    -1.067600\n",
       "48.6 -0.995521    -1.078517\n",
       "48.7 -0.999986    -1.078224\n",
       "48.8 -0.994460    -1.066402\n",
       "48.9 -0.978997    -1.043270\n",
       "49.0 -0.953753    -1.008874\n",
       "49.1 -0.918979    -0.963606\n",
       "49.2 -0.875023    -0.907873\n",
       "49.3 -0.822324    -0.842269\n",
       "49.4 -0.761408    -0.767753\n",
       "49.5 -0.692885    -0.685144\n",
       "49.6 -0.617439    -0.595693\n",
       "49.7 -0.535823    -0.500474\n",
       "49.8 -0.448854    -0.400984\n",
       "49.9 -0.357400    -0.298590\n",
       "50.0 -0.262375    -0.194584"
      ]
     },
     "execution_count": 45,
     "metadata": {},
     "output_type": "execute_result"
    }
   ],
   "source": [
    "test"
   ]
  },
  {
   "cell_type": "code",
   "execution_count": 46,
   "metadata": {},
   "outputs": [
    {
     "data": {
      "text/plain": [
       "<Axes: >"
      ]
     },
     "execution_count": 46,
     "metadata": {},
     "output_type": "execute_result"
    },
    {
     "data": {
      "image/png": "[encoded data removed]",
      "text/plain": [
       "<Figure size 1200x800 with 1 Axes>"
      ]
     },
     "metadata": {},
     "output_type": "display_data"
    }
   ],
   "source": [
    "test.plot(figsize=(12,8))"
   ]
  },
  {
   "attachments": {},
   "cell_type": "markdown",
   "metadata": {},
   "source": [
    "## Ajout d'un Early Stopping et d'un Générateur de Validation"
   ]
  },
  {
   "cell_type": "code",
   "execution_count": 47,
   "metadata": {},
   "outputs": [],
   "source": [
    "from tensorflow.keras.callbacks import EarlyStopping"
   ]
  },
  {
   "cell_type": "code",
   "execution_count": 48,
   "metadata": {},
   "outputs": [],
   "source": [
    "early_stop = EarlyStopping(monitor='val_loss',patience=2)# parametre de patience pour arreter l'entrainement si la val_loss ne diminue plus"
   ]
  },
  {
   "cell_type": "code",
   "execution_count": 51,
   "metadata": {},
   "outputs": [],
   "source": [
    "#on doit avoir scaled_test plus long que length choisit pour le générateur pour pouvoir faire la validation\n",
    "length = 49 # Longueur des séquences de sortie (en nombre de pas temporel)\n",
    "# define generator pour scaled_train\n",
    "generator = TimeseriesGenerator(scaled_train, scaled_train, length=length, batch_size=1)\n",
    "# define generator pour validation\n",
    "validation_generator = TimeseriesGenerator(scaled_test,scaled_test,length=length,batch_size=1)"
   ]
  },
  {
   "attachments": {},
   "cell_type": "markdown",
   "metadata": {},
   "source": [
    "## LSTMS"
   ]
  },
  {
   "cell_type": "code",
   "execution_count": 52,
   "metadata": {},
   "outputs": [],
   "source": [
    "# définir le modèle\n",
    "model = Sequential()\n",
    "\n",
    "# Couche simple RNN\n",
    "model.add(LSTM(50,input_shape=(length, n_features)))\n",
    "\n",
    "# Prédiction finale\n",
    "model.add(Dense(1))\n",
    "\n",
    "model.compile(optimizer='adam', loss='mse')"
   ]
  },
  {
   "cell_type": "code",
   "execution_count": 53,
   "metadata": {},
   "outputs": [
    {
     "name": "stdout",
     "output_type": "stream",
     "text": [
      "Epoch 1/20\n",
      "402/402 [==============================] - 5s 10ms/step - loss: 0.0106 - val_loss: 3.8474e-05\n",
      "Epoch 2/20\n",
      "402/402 [==============================] - 4s 10ms/step - loss: 1.5139e-04 - val_loss: 4.4940e-05\n",
      "Epoch 3/20\n",
      "402/402 [==============================] - 4s 10ms/step - loss: 1.2011e-04 - val_loss: 1.1241e-04\n"
     ]
    },
    {
     "data": {
      "text/plain": [
       "<keras.callbacks.History at 0x1af9f3bb590>"
      ]
     },
     "execution_count": 53,
     "metadata": {},
     "output_type": "execute_result"
    }
   ],
   "source": [
    "model.fit(generator,epochs=20,validation_data=validation_generator,callbacks=[early_stop])"
   ]
  },
  {
   "cell_type": "code",
   "execution_count": 54,
   "metadata": {},
   "outputs": [
    {
     "name": "stdout",
     "output_type": "stream",
     "text": [
      "1/1 [==============================] - 0s 248ms/step\n",
      "1/1 [==============================] - 0s 17ms/step\n",
      "1/1 [==============================] - 0s 20ms/step\n",
      "1/1 [==============================] - 0s 18ms/step\n",
      "1/1 [==============================] - 0s 19ms/step\n",
      "1/1 [==============================] - 0s 18ms/step\n",
      "1/1 [==============================] - 0s 19ms/step\n",
      "1/1 [==============================] - 0s 19ms/step\n",
      "1/1 [==============================] - 0s 19ms/step\n",
      "1/1 [==============================] - 0s 19ms/step\n",
      "1/1 [==============================] - 0s 21ms/step\n",
      "1/1 [==============================] - 0s 18ms/step\n",
      "1/1 [==============================] - 0s 20ms/step\n",
      "1/1 [==============================] - 0s 17ms/step\n",
      "1/1 [==============================] - 0s 21ms/step\n",
      "1/1 [==============================] - 0s 20ms/step\n",
      "1/1 [==============================] - 0s 19ms/step\n",
      "1/1 [==============================] - 0s 15ms/step\n",
      "1/1 [==============================] - 0s 26ms/step\n",
      "1/1 [==============================] - 0s 17ms/step\n",
      "1/1 [==============================] - 0s 17ms/step\n",
      "1/1 [==============================] - 0s 19ms/step\n",
      "1/1 [==============================] - 0s 17ms/step\n",
      "1/1 [==============================] - 0s 17ms/step\n",
      "1/1 [==============================] - 0s 20ms/step\n",
      "1/1 [==============================] - 0s 18ms/step\n",
      "1/1 [==============================] - 0s 18ms/step\n",
      "1/1 [==============================] - 0s 17ms/step\n",
      "1/1 [==============================] - 0s 17ms/step\n",
      "1/1 [==============================] - 0s 15ms/step\n",
      "1/1 [==============================] - 0s 17ms/step\n",
      "1/1 [==============================] - 0s 16ms/step\n",
      "1/1 [==============================] - 0s 17ms/step\n",
      "1/1 [==============================] - 0s 18ms/step\n",
      "1/1 [==============================] - 0s 17ms/step\n",
      "1/1 [==============================] - 0s 17ms/step\n",
      "1/1 [==============================] - 0s 20ms/step\n",
      "1/1 [==============================] - 0s 19ms/step\n",
      "1/1 [==============================] - 0s 18ms/step\n",
      "1/1 [==============================] - 0s 17ms/step\n",
      "1/1 [==============================] - 0s 17ms/step\n",
      "1/1 [==============================] - 0s 17ms/step\n",
      "1/1 [==============================] - 0s 18ms/step\n",
      "1/1 [==============================] - 0s 18ms/step\n",
      "1/1 [==============================] - 0s 18ms/step\n",
      "1/1 [==============================] - 0s 19ms/step\n",
      "1/1 [==============================] - 0s 24ms/step\n",
      "1/1 [==============================] - 0s 16ms/step\n",
      "1/1 [==============================] - 0s 22ms/step\n",
      "1/1 [==============================] - 0s 15ms/step\n"
     ]
    }
   ],
   "source": [
    "test_predictions = []\n",
    "\n",
    "first_eval_batch = scaled_train[-length:]\n",
    "current_batch = first_eval_batch.reshape((1, length, n_features))\n",
    "\n",
    "for i in range(len(test)):\n",
    "    \n",
    "    # obtenir la prédiction avec 1 timestamp d'avance ([0] pour ne saisir que le nombre au lieu de [array])\n",
    "    current_pred = model.predict(current_batch)[0]\n",
    "    \n",
    "    # stocker la prédiction\n",
    "    test_predictions.append(current_pred) \n",
    "    \n",
    "    # mise à jour du batch pour inclure maintenant la prédiction et supprimer la première valeur\n",
    "    current_batch = np.append(current_batch[:,1:,:],[[current_pred]],axis=1)"
   ]
  },
  {
   "cell_type": "code",
   "execution_count": 55,
   "metadata": {},
   "outputs": [],
   "source": [
    "true_predictions = scaler.inverse_transform(test_predictions)"
   ]
  },
  {
   "cell_type": "code",
   "execution_count": 56,
   "metadata": {},
   "outputs": [
    {
     "name": "stderr",
     "output_type": "stream",
     "text": [
      "C:\\Users\\Administrator\\AppData\\Local\\Temp\\ipykernel_13200\\2844857802.py:1: SettingWithCopyWarning: \n",
      "A value is trying to be set on a copy of a slice from a DataFrame.\n",
      "Try using .loc[row_indexer,col_indexer] = value instead\n",
      "\n",
      "See the caveats in the documentation: https://pandas.pydata.org/pandas-docs/stable/user_guide/indexing.html#returning-a-view-versus-a-copy\n",
      "  test['LSTM Predictions'] = true_predictions\n"
     ]
    }
   ],
   "source": [
    "test['LSTM Predictions'] = true_predictions"
   ]
  },
  {
   "cell_type": "code",
   "execution_count": 57,
   "metadata": {},
   "outputs": [
    {
     "data": {
      "text/plain": [
       "<Axes: >"
      ]
     },
     "execution_count": 57,
     "metadata": {},
     "output_type": "execute_result"
    },
    {
     "data": {
      "image/png": "[encoded data removed]",
      "text/plain": [
       "<Figure size 1200x800 with 1 Axes>"
      ]
     },
     "metadata": {},
     "output_type": "display_data"
    }
   ],
   "source": [
    "test.plot(figsize=(12,8))"
   ]
  },
  {
   "cell_type": "code",
   "execution_count": 58,
   "metadata": {},
   "outputs": [
    {
     "data": {
      "text/html": [
       "<div>\n",
       "<style scoped>\n",
       "    .dataframe tbody tr th:only-of-type {\n",
       "        vertical-align: middle;\n",
       "    }\n",
       "\n",
       "    .dataframe tbody tr th {\n",
       "        vertical-align: top;\n",
       "    }\n",
       "\n",
       "    .dataframe thead th {\n",
       "        text-align: right;\n",
       "    }\n",
       "</style>\n",
       "<table border=\"1\" class=\"dataframe\">\n",
       "  <thead>\n",
       "    <tr style=\"text-align: right;\">\n",
       "      <th></th>\n",
       "      <th>Sinus</th>\n",
       "      <th>Predictions</th>\n",
       "      <th>LSTM Predictions</th>\n",
       "    </tr>\n",
       "  </thead>\n",
       "  <tbody>\n",
       "    <tr>\n",
       "      <th>45.1</th>\n",
       "      <td>0.899097</td>\n",
       "      <td>0.897051</td>\n",
       "      <td>0.898068</td>\n",
       "    </tr>\n",
       "    <tr>\n",
       "      <th>45.2</th>\n",
       "      <td>0.938307</td>\n",
       "      <td>0.933683</td>\n",
       "      <td>0.934708</td>\n",
       "    </tr>\n",
       "    <tr>\n",
       "      <th>45.3</th>\n",
       "      <td>0.968142</td>\n",
       "      <td>0.960611</td>\n",
       "      <td>0.961145</td>\n",
       "    </tr>\n",
       "    <tr>\n",
       "      <th>45.4</th>\n",
       "      <td>0.988304</td>\n",
       "      <td>0.977994</td>\n",
       "      <td>0.977226</td>\n",
       "    </tr>\n",
       "    <tr>\n",
       "      <th>45.5</th>\n",
       "      <td>0.998591</td>\n",
       "      <td>0.985389</td>\n",
       "      <td>0.982953</td>\n",
       "    </tr>\n",
       "    <tr>\n",
       "      <th>45.6</th>\n",
       "      <td>0.998900</td>\n",
       "      <td>0.983165</td>\n",
       "      <td>0.978467</td>\n",
       "    </tr>\n",
       "    <tr>\n",
       "      <th>45.7</th>\n",
       "      <td>0.989229</td>\n",
       "      <td>0.971596</td>\n",
       "      <td>0.964022</td>\n",
       "    </tr>\n",
       "    <tr>\n",
       "      <th>45.8</th>\n",
       "      <td>0.969673</td>\n",
       "      <td>0.950890</td>\n",
       "      <td>0.939963</td>\n",
       "    </tr>\n",
       "    <tr>\n",
       "      <th>45.9</th>\n",
       "      <td>0.940429</td>\n",
       "      <td>0.921227</td>\n",
       "      <td>0.906715</td>\n",
       "    </tr>\n",
       "    <tr>\n",
       "      <th>46.0</th>\n",
       "      <td>0.901788</td>\n",
       "      <td>0.882635</td>\n",
       "      <td>0.864761</td>\n",
       "    </tr>\n",
       "    <tr>\n",
       "      <th>46.1</th>\n",
       "      <td>0.854137</td>\n",
       "      <td>0.835324</td>\n",
       "      <td>0.814628</td>\n",
       "    </tr>\n",
       "    <tr>\n",
       "      <th>46.2</th>\n",
       "      <td>0.797952</td>\n",
       "      <td>0.779758</td>\n",
       "      <td>0.756880</td>\n",
       "    </tr>\n",
       "    <tr>\n",
       "      <th>46.3</th>\n",
       "      <td>0.733794</td>\n",
       "      <td>0.715966</td>\n",
       "      <td>0.692107</td>\n",
       "    </tr>\n",
       "    <tr>\n",
       "      <th>46.4</th>\n",
       "      <td>0.662304</td>\n",
       "      <td>0.644481</td>\n",
       "      <td>0.620927</td>\n",
       "    </tr>\n",
       "    <tr>\n",
       "      <th>46.5</th>\n",
       "      <td>0.584197</td>\n",
       "      <td>0.565960</td>\n",
       "      <td>0.543978</td>\n",
       "    </tr>\n",
       "    <tr>\n",
       "      <th>46.6</th>\n",
       "      <td>0.500252</td>\n",
       "      <td>0.481166</td>\n",
       "      <td>0.461923</td>\n",
       "    </tr>\n",
       "    <tr>\n",
       "      <th>46.7</th>\n",
       "      <td>0.411309</td>\n",
       "      <td>0.390902</td>\n",
       "      <td>0.375447</td>\n",
       "    </tr>\n",
       "    <tr>\n",
       "      <th>46.8</th>\n",
       "      <td>0.318257</td>\n",
       "      <td>0.295877</td>\n",
       "      <td>0.285267</td>\n",
       "    </tr>\n",
       "    <tr>\n",
       "      <th>46.9</th>\n",
       "      <td>0.222024</td>\n",
       "      <td>0.196881</td>\n",
       "      <td>0.192128</td>\n",
       "    </tr>\n",
       "    <tr>\n",
       "      <th>47.0</th>\n",
       "      <td>0.123573</td>\n",
       "      <td>0.094669</td>\n",
       "      <td>0.096808</td>\n",
       "    </tr>\n",
       "    <tr>\n",
       "      <th>47.1</th>\n",
       "      <td>0.023888</td>\n",
       "      <td>-0.009740</td>\n",
       "      <td>0.000124</td>\n",
       "    </tr>\n",
       "    <tr>\n",
       "      <th>47.2</th>\n",
       "      <td>-0.076037</td>\n",
       "      <td>-0.115254</td>\n",
       "      <td>-0.097069</td>\n",
       "    </tr>\n",
       "    <tr>\n",
       "      <th>47.3</th>\n",
       "      <td>-0.175201</td>\n",
       "      <td>-0.220707</td>\n",
       "      <td>-0.193875</td>\n",
       "    </tr>\n",
       "    <tr>\n",
       "      <th>47.4</th>\n",
       "      <td>-0.272615</td>\n",
       "      <td>-0.324884</td>\n",
       "      <td>-0.289361</td>\n",
       "    </tr>\n",
       "    <tr>\n",
       "      <th>47.5</th>\n",
       "      <td>-0.367305</td>\n",
       "      <td>-0.426557</td>\n",
       "      <td>-0.382553</td>\n",
       "    </tr>\n",
       "    <tr>\n",
       "      <th>47.6</th>\n",
       "      <td>-0.458325</td>\n",
       "      <td>-0.524306</td>\n",
       "      <td>-0.472449</td>\n",
       "    </tr>\n",
       "    <tr>\n",
       "      <th>47.7</th>\n",
       "      <td>-0.544766</td>\n",
       "      <td>-0.616930</td>\n",
       "      <td>-0.558031</td>\n",
       "    </tr>\n",
       "    <tr>\n",
       "      <th>47.8</th>\n",
       "      <td>-0.625764</td>\n",
       "      <td>-0.703385</td>\n",
       "      <td>-0.638277</td>\n",
       "    </tr>\n",
       "    <tr>\n",
       "      <th>47.9</th>\n",
       "      <td>-0.700509</td>\n",
       "      <td>-0.782651</td>\n",
       "      <td>-0.712191</td>\n",
       "    </tr>\n",
       "    <tr>\n",
       "      <th>48.0</th>\n",
       "      <td>-0.768255</td>\n",
       "      <td>-0.853867</td>\n",
       "      <td>-0.778835</td>\n",
       "    </tr>\n",
       "    <tr>\n",
       "      <th>48.1</th>\n",
       "      <td>-0.828324</td>\n",
       "      <td>-0.916209</td>\n",
       "      <td>-0.837353</td>\n",
       "    </tr>\n",
       "    <tr>\n",
       "      <th>48.2</th>\n",
       "      <td>-0.880118</td>\n",
       "      <td>-0.969339</td>\n",
       "      <td>-0.887013</td>\n",
       "    </tr>\n",
       "    <tr>\n",
       "      <th>48.3</th>\n",
       "      <td>-0.923117</td>\n",
       "      <td>-1.012602</td>\n",
       "      <td>-0.927231</td>\n",
       "    </tr>\n",
       "    <tr>\n",
       "      <th>48.4</th>\n",
       "      <td>-0.956893</td>\n",
       "      <td>-1.045541</td>\n",
       "      <td>-0.957586</td>\n",
       "    </tr>\n",
       "    <tr>\n",
       "      <th>48.5</th>\n",
       "      <td>-0.981108</td>\n",
       "      <td>-1.067600</td>\n",
       "      <td>-0.977832</td>\n",
       "    </tr>\n",
       "    <tr>\n",
       "      <th>48.6</th>\n",
       "      <td>-0.995521</td>\n",
       "      <td>-1.078517</td>\n",
       "      <td>-0.987894</td>\n",
       "    </tr>\n",
       "    <tr>\n",
       "      <th>48.7</th>\n",
       "      <td>-0.999986</td>\n",
       "      <td>-1.078224</td>\n",
       "      <td>-0.987854</td>\n",
       "    </tr>\n",
       "    <tr>\n",
       "      <th>48.8</th>\n",
       "      <td>-0.994460</td>\n",
       "      <td>-1.066402</td>\n",
       "      <td>-0.977930</td>\n",
       "    </tr>\n",
       "    <tr>\n",
       "      <th>48.9</th>\n",
       "      <td>-0.978997</td>\n",
       "      <td>-1.043270</td>\n",
       "      <td>-0.958451</td>\n",
       "    </tr>\n",
       "    <tr>\n",
       "      <th>49.0</th>\n",
       "      <td>-0.953753</td>\n",
       "      <td>-1.008874</td>\n",
       "      <td>-0.929837</td>\n",
       "    </tr>\n",
       "    <tr>\n",
       "      <th>49.1</th>\n",
       "      <td>-0.918979</td>\n",
       "      <td>-0.963606</td>\n",
       "      <td>-0.892570</td>\n",
       "    </tr>\n",
       "    <tr>\n",
       "      <th>49.2</th>\n",
       "      <td>-0.875023</td>\n",
       "      <td>-0.907873</td>\n",
       "      <td>-0.847176</td>\n",
       "    </tr>\n",
       "    <tr>\n",
       "      <th>49.3</th>\n",
       "      <td>-0.822324</td>\n",
       "      <td>-0.842269</td>\n",
       "      <td>-0.794212</td>\n",
       "    </tr>\n",
       "    <tr>\n",
       "      <th>49.4</th>\n",
       "      <td>-0.761408</td>\n",
       "      <td>-0.767753</td>\n",
       "      <td>-0.734254</td>\n",
       "    </tr>\n",
       "    <tr>\n",
       "      <th>49.5</th>\n",
       "      <td>-0.692885</td>\n",
       "      <td>-0.685144</td>\n",
       "      <td>-0.667886</td>\n",
       "    </tr>\n",
       "    <tr>\n",
       "      <th>49.6</th>\n",
       "      <td>-0.617439</td>\n",
       "      <td>-0.595693</td>\n",
       "      <td>-0.595706</td>\n",
       "    </tr>\n",
       "    <tr>\n",
       "      <th>49.7</th>\n",
       "      <td>-0.535823</td>\n",
       "      <td>-0.500474</td>\n",
       "      <td>-0.518318</td>\n",
       "    </tr>\n",
       "    <tr>\n",
       "      <th>49.8</th>\n",
       "      <td>-0.448854</td>\n",
       "      <td>-0.400984</td>\n",
       "      <td>-0.436342</td>\n",
       "    </tr>\n",
       "    <tr>\n",
       "      <th>49.9</th>\n",
       "      <td>-0.357400</td>\n",
       "      <td>-0.298590</td>\n",
       "      <td>-0.350417</td>\n",
       "    </tr>\n",
       "    <tr>\n",
       "      <th>50.0</th>\n",
       "      <td>-0.262375</td>\n",
       "      <td>-0.194584</td>\n",
       "      <td>-0.261212</td>\n",
       "    </tr>\n",
       "  </tbody>\n",
       "</table>\n",
       "</div>"
      ],
      "text/plain": [
       "         Sinus  Predictions  LSTM Predictions\n",
       "45.1  0.899097     0.897051          0.898068\n",
       "45.2  0.938307     0.933683          0.934708\n",
       "45.3  0.968142     0.960611          0.961145\n",
       "45.4  0.988304     0.977994          0.977226\n",
       "45.5  0.998591     0.985389          0.982953\n",
       "45.6  0.998900     0.983165          0.978467\n",
       "45.7  0.989229     0.971596          0.964022\n",
       "45.8  0.969673     0.950890          0.939963\n",
       "45.9  0.940429     0.921227          0.906715\n",
       "46.0  0.901788     0.882635          0.864761\n",
       "46.1  0.854137     0.835324          0.814628\n",
       "46.2  0.797952     0.779758          0.756880\n",
       "46.3  0.733794     0.715966          0.692107\n",
       "46.4  0.662304     0.644481          0.620927\n",
       "46.5  0.584197     0.565960          0.543978\n",
       "46.6  0.500252     0.481166          0.461923\n",
       "46.7  0.411309     0.390902          0.375447\n",
       "46.8  0.318257     0.295877          0.285267\n",
       "46.9  0.222024     0.196881          0.192128\n",
       "47.0  0.123573     0.094669          0.096808\n",
       "47.1  0.023888    -0.009740          0.000124\n",
       "47.2 -0.076037    -0.115254         -0.097069\n",
       "47.3 -0.175201    -0.220707         -0.193875\n",
       "47.4 -0.272615    -0.324884         -0.289361\n",
       "47.5 -0.367305    -0.426557         -0.382553\n",
       "47.6 -0.458325    -0.524306         -0.472449\n",
       "47.7 -0.544766    -0.616930         -0.558031\n",
       "47.8 -0.625764    -0.703385         -0.638277\n",
       "47.9 -0.700509    -0.782651         -0.712191\n",
       "48.0 -0.768255    -0.853867         -0.778835\n",
       "48.1 -0.828324    -0.916209         -0.837353\n",
       "48.2 -0.880118    -0.969339         -0.887013\n",
       "48.3 -0.923117    -1.012602         -0.927231\n",
       "48.4 -0.956893    -1.045541         -0.957586\n",
       "48.5 -0.981108    -1.067600         -0.977832\n",
       "48.6 -0.995521    -1.078517         -0.987894\n",
       "48.7 -0.999986    -1.078224         -0.987854\n",
       "48.8 -0.994460    -1.066402         -0.977930\n",
       "48.9 -0.978997    -1.043270         -0.958451\n",
       "49.0 -0.953753    -1.008874         -0.929837\n",
       "49.1 -0.918979    -0.963606         -0.892570\n",
       "49.2 -0.875023    -0.907873         -0.847176\n",
       "49.3 -0.822324    -0.842269         -0.794212\n",
       "49.4 -0.761408    -0.767753         -0.734254\n",
       "49.5 -0.692885    -0.685144         -0.667886\n",
       "49.6 -0.617439    -0.595693         -0.595706\n",
       "49.7 -0.535823    -0.500474         -0.518318\n",
       "49.8 -0.448854    -0.400984         -0.436342\n",
       "49.9 -0.357400    -0.298590         -0.350417\n",
       "50.0 -0.262375    -0.194584         -0.261212"
      ]
     },
     "execution_count": 58,
     "metadata": {},
     "output_type": "execute_result"
    }
   ],
   "source": [
    "test"
   ]
  },
  {
   "attachments": {},
   "cell_type": "markdown",
   "metadata": {},
   "source": [
    "## Prévisions\n",
    "\n",
    "Prévisions dans un intervalle inconnu. Nous devrions d'abord utiliser toutes nos données, puisque nous faisons maintenant des prévisions !"
   ]
  },
  {
   "cell_type": "code",
   "execution_count": 59,
   "metadata": {},
   "outputs": [
    {
     "data": {
      "text/plain": [
       "<Axes: >"
      ]
     },
     "execution_count": 59,
     "metadata": {},
     "output_type": "execute_result"
    },
    {
     "data": {
      "image/png": "[encoded data removed]",
      "text/plain": [
       "<Figure size 640x480 with 1 Axes>"
      ]
     },
     "metadata": {},
     "output_type": "display_data"
    }
   ],
   "source": [
    "df.plot()"
   ]
  },
  {
   "cell_type": "code",
   "execution_count": 60,
   "metadata": {},
   "outputs": [],
   "source": [
    "full_scaler = MinMaxScaler()"
   ]
  },
  {
   "cell_type": "code",
   "execution_count": 61,
   "metadata": {},
   "outputs": [],
   "source": [
    "scaled_full_data = full_scaler.fit_transform(df)"
   ]
  },
  {
   "cell_type": "code",
   "execution_count": 62,
   "metadata": {},
   "outputs": [],
   "source": [
    "generator = TimeseriesGenerator(scaled_full_data,scaled_full_data,length=length,batch_size=1)\n"
   ]
  },
  {
   "cell_type": "code",
   "execution_count": 63,
   "metadata": {},
   "outputs": [],
   "source": [
    "# définir le modèle\n",
    "model = Sequential()\n",
    "\n",
    "# Couche simple RNN\n",
    "model.add(LSTM(50,input_shape=(length, n_features)))\n",
    "\n",
    "# Prédiction finale\n",
    "model.add(Dense(1))\n",
    "\n",
    "model.compile(optimizer='adam', loss='mse')"
   ]
  },
  {
   "cell_type": "code",
   "execution_count": 64,
   "metadata": {},
   "outputs": [
    {
     "name": "stdout",
     "output_type": "stream",
     "text": [
      "Epoch 1/3\n",
      "452/452 [==============================] - 5s 9ms/step - loss: 0.0102\n",
      "Epoch 2/3\n",
      "452/452 [==============================] - 4s 9ms/step - loss: 4.4360e-05\n",
      "Epoch 3/3\n",
      "452/452 [==============================] - 4s 9ms/step - loss: 1.8510e-04\n"
     ]
    },
    {
     "data": {
      "text/plain": [
       "<keras.callbacks.History at 0x1afa5c32050>"
      ]
     },
     "execution_count": 64,
     "metadata": {},
     "output_type": "execute_result"
    }
   ],
   "source": [
    "model.fit(generator,epochs=3)"
   ]
  },
  {
   "cell_type": "code",
   "execution_count": 65,
   "metadata": {},
   "outputs": [
    {
     "name": "stdout",
     "output_type": "stream",
     "text": [
      "1/1 [==============================] - 0s 244ms/step\n",
      "1/1 [==============================] - 0s 19ms/step\n",
      "1/1 [==============================] - 0s 19ms/step\n",
      "1/1 [==============================] - 0s 16ms/step\n",
      "1/1 [==============================] - 0s 17ms/step\n",
      "1/1 [==============================] - 0s 16ms/step\n",
      "1/1 [==============================] - 0s 19ms/step\n",
      "1/1 [==============================] - 0s 16ms/step\n",
      "1/1 [==============================] - 0s 16ms/step\n",
      "1/1 [==============================] - 0s 19ms/step\n",
      "1/1 [==============================] - 0s 16ms/step\n",
      "1/1 [==============================] - 0s 17ms/step\n",
      "1/1 [==============================] - 0s 16ms/step\n",
      "1/1 [==============================] - 0s 17ms/step\n",
      "1/1 [==============================] - 0s 18ms/step\n",
      "1/1 [==============================] - 0s 17ms/step\n",
      "1/1 [==============================] - 0s 18ms/step\n",
      "1/1 [==============================] - 0s 16ms/step\n",
      "1/1 [==============================] - 0s 16ms/step\n",
      "1/1 [==============================] - 0s 18ms/step\n",
      "1/1 [==============================] - 0s 20ms/step\n",
      "1/1 [==============================] - 0s 22ms/step\n",
      "1/1 [==============================] - 0s 21ms/step\n",
      "1/1 [==============================] - 0s 19ms/step\n",
      "1/1 [==============================] - 0s 18ms/step\n"
     ]
    }
   ],
   "source": [
    "future_predict = []\n",
    "\n",
    "first_eval_batch = scaled_train[-length:]\n",
    "current_batch = first_eval_batch.reshape((1, length, n_features))\n",
    "\n",
    "for i in range(25):\n",
    "    \n",
    "    # obtenir la prédiction avec 1 timestamp d'avance ([0] pour ne saisir que le nombre au lieu de [array])\n",
    "    current_pred = model.predict(current_batch)[0]\n",
    "    \n",
    "    # stocker la prédiction\n",
    "    future_predict.append(current_pred) \n",
    "    \n",
    "    # mise à jour du batch pour inclure maintenant la prédiction et supprimer la première valeur\n",
    "    current_batch = np.append(current_batch[:,1:,:],[[current_pred]],axis=1)"
   ]
  },
  {
   "cell_type": "code",
   "execution_count": 66,
   "metadata": {},
   "outputs": [
    {
     "data": {
      "text/html": [
       "<div>\n",
       "<style scoped>\n",
       "    .dataframe tbody tr th:only-of-type {\n",
       "        vertical-align: middle;\n",
       "    }\n",
       "\n",
       "    .dataframe tbody tr th {\n",
       "        vertical-align: top;\n",
       "    }\n",
       "\n",
       "    .dataframe thead th {\n",
       "        text-align: right;\n",
       "    }\n",
       "</style>\n",
       "<table border=\"1\" class=\"dataframe\">\n",
       "  <thead>\n",
       "    <tr style=\"text-align: right;\">\n",
       "      <th></th>\n",
       "      <th>Sinus</th>\n",
       "    </tr>\n",
       "  </thead>\n",
       "  <tbody>\n",
       "    <tr>\n",
       "      <th>0.0</th>\n",
       "      <td>0.000000</td>\n",
       "    </tr>\n",
       "    <tr>\n",
       "      <th>0.1</th>\n",
       "      <td>0.099833</td>\n",
       "    </tr>\n",
       "    <tr>\n",
       "      <th>0.2</th>\n",
       "      <td>0.198669</td>\n",
       "    </tr>\n",
       "    <tr>\n",
       "      <th>0.3</th>\n",
       "      <td>0.295520</td>\n",
       "    </tr>\n",
       "    <tr>\n",
       "      <th>0.4</th>\n",
       "      <td>0.389418</td>\n",
       "    </tr>\n",
       "    <tr>\n",
       "      <th>...</th>\n",
       "      <td>...</td>\n",
       "    </tr>\n",
       "    <tr>\n",
       "      <th>49.6</th>\n",
       "      <td>-0.617439</td>\n",
       "    </tr>\n",
       "    <tr>\n",
       "      <th>49.7</th>\n",
       "      <td>-0.535823</td>\n",
       "    </tr>\n",
       "    <tr>\n",
       "      <th>49.8</th>\n",
       "      <td>-0.448854</td>\n",
       "    </tr>\n",
       "    <tr>\n",
       "      <th>49.9</th>\n",
       "      <td>-0.357400</td>\n",
       "    </tr>\n",
       "    <tr>\n",
       "      <th>50.0</th>\n",
       "      <td>-0.262375</td>\n",
       "    </tr>\n",
       "  </tbody>\n",
       "</table>\n",
       "<p>501 rows × 1 columns</p>\n",
       "</div>"
      ],
      "text/plain": [
       "         Sinus\n",
       "0.0   0.000000\n",
       "0.1   0.099833\n",
       "0.2   0.198669\n",
       "0.3   0.295520\n",
       "0.4   0.389418\n",
       "...        ...\n",
       "49.6 -0.617439\n",
       "49.7 -0.535823\n",
       "49.8 -0.448854\n",
       "49.9 -0.357400\n",
       "50.0 -0.262375\n",
       "\n",
       "[501 rows x 1 columns]"
      ]
     },
     "execution_count": 66,
     "metadata": {},
     "output_type": "execute_result"
    }
   ],
   "source": [
    "df"
   ]
  },
  {
   "cell_type": "code",
   "execution_count": 67,
   "metadata": {},
   "outputs": [],
   "source": [
    "future_predict = full_scaler.inverse_transform(future_predict)"
   ]
  },
  {
   "cell_type": "code",
   "execution_count": 68,
   "metadata": {},
   "outputs": [
    {
     "data": {
      "text/plain": [
       "array([[ 0.92112086],\n",
       "       [ 0.96085324],\n",
       "       [ 0.991547  ],\n",
       "       [ 1.01266821],\n",
       "       [ 1.02402924],\n",
       "       [ 1.0256202 ],\n",
       "       [ 1.01756338],\n",
       "       [ 1.00009888],\n",
       "       [ 0.97355441],\n",
       "       [ 0.93832799],\n",
       "       [ 0.89487166],\n",
       "       [ 0.84367466],\n",
       "       [ 0.78525602],\n",
       "       [ 0.72015635],\n",
       "       [ 0.64893033],\n",
       "       [ 0.57215396],\n",
       "       [ 0.4904208 ],\n",
       "       [ 0.40434654],\n",
       "       [ 0.3145773 ],\n",
       "       [ 0.22179328],\n",
       "       [ 0.12671498],\n",
       "       [ 0.03010414],\n",
       "       [-0.06722887],\n",
       "       [-0.16443051],\n",
       "       [-0.26060612]])"
      ]
     },
     "execution_count": 68,
     "metadata": {},
     "output_type": "execute_result"
    }
   ],
   "source": [
    "future_predict"
   ]
  },
  {
   "cell_type": "code",
   "execution_count": 69,
   "metadata": {},
   "outputs": [
    {
     "data": {
      "text/plain": [
       "2.5"
      ]
     },
     "execution_count": 69,
     "metadata": {},
     "output_type": "execute_result"
    }
   ],
   "source": [
    "25*.1"
   ]
  },
  {
   "cell_type": "code",
   "execution_count": 70,
   "metadata": {},
   "outputs": [],
   "source": [
    "future_index = np.arange(50.1,52.6,step=0.1)"
   ]
  },
  {
   "cell_type": "code",
   "execution_count": 71,
   "metadata": {},
   "outputs": [
    {
     "data": {
      "text/plain": [
       "25"
      ]
     },
     "execution_count": 71,
     "metadata": {},
     "output_type": "execute_result"
    }
   ],
   "source": [
    "len(future_index)"
   ]
  },
  {
   "cell_type": "code",
   "execution_count": 72,
   "metadata": {},
   "outputs": [
    {
     "data": {
      "text/plain": [
       "25"
      ]
     },
     "execution_count": 72,
     "metadata": {},
     "output_type": "execute_result"
    }
   ],
   "source": [
    "len(future_predict)"
   ]
  },
  {
   "cell_type": "code",
   "execution_count": 75,
   "metadata": {},
   "outputs": [
    {
     "data": {
      "text/plain": [
       "[<matplotlib.lines.Line2D at 0x1afaa674c90>]"
      ]
     },
     "execution_count": 75,
     "metadata": {},
     "output_type": "execute_result"
    },
    {
     "data": {
      "image/png": "[encoded data removed]",
      "text/plain": [
       "<Figure size 640x480 with 1 Axes>"
      ]
     },
     "metadata": {},
     "output_type": "display_data"
    }
   ],
   "source": [
    "plt.plot(df.index,df['Sinus'])\n",
    "plt.plot(future_index,future_predict)"
   ]
  },
  {
   "cell_type": "code",
   "execution_count": null,
   "metadata": {},
   "outputs": [],
   "source": []
  }
 ],
 "metadata": {
  "kernelspec": {
   "display_name": "Python 3",
   "language": "python",
   "name": "python3"
  },
  "language_info": {
   "codemirror_mode": {
    "name": "ipython",
    "version": 3
   },
   "file_extension": ".py",
   "mimetype": "text/x-python",
   "name": "python",
   "nbconvert_exporter": "python",
   "pygments_lexer": "ipython3",
   "version": "3.11.3"
  },
  "orig_nbformat": 4
 },
 "nbformat": 4,
 "nbformat_minor": 2
}
